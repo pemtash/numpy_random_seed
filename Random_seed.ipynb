{
 "cells": [
  {
   "cell_type": "markdown",
   "metadata": {
    "ExecuteTime": {
     "end_time": "2021-04-20T06:27:52.949832Z",
     "start_time": "2021-04-20T06:27:52.943836Z"
    }
   },
   "source": [
    "# numpy random seed"
   ]
  },
  {
   "cell_type": "code",
   "execution_count": 2,
   "metadata": {
    "ExecuteTime": {
     "end_time": "2021-04-20T06:28:20.385618Z",
     "start_time": "2021-04-20T06:28:19.269975Z"
    }
   },
   "outputs": [],
   "source": [
    "import pandas as pd \n",
    "import numpy as np"
   ]
  },
  {
   "cell_type": "markdown",
   "metadata": {},
   "source": [
    "# creating arrays"
   ]
  },
  {
   "cell_type": "code",
   "execution_count": 21,
   "metadata": {
    "ExecuteTime": {
     "end_time": "2021-04-20T06:42:25.602230Z",
     "start_time": "2021-04-20T06:42:25.581244Z"
    }
   },
   "outputs": [
    {
     "data": {
      "text/plain": [
       "array([1, 2, 3])"
      ]
     },
     "execution_count": 21,
     "metadata": {},
     "output_type": "execute_result"
    }
   ],
   "source": [
    "sample_array= np.array([1,2,3])\n",
    "sample_array"
   ]
  },
  {
   "cell_type": "code",
   "execution_count": 22,
   "metadata": {
    "ExecuteTime": {
     "end_time": "2021-04-20T06:43:18.417589Z",
     "start_time": "2021-04-20T06:43:18.406595Z"
    }
   },
   "outputs": [
    {
     "data": {
      "text/plain": [
       "array([1, 2, 3, 4, 5, 6, 7, 8])"
      ]
     },
     "execution_count": 22,
     "metadata": {},
     "output_type": "execute_result"
    }
   ],
   "source": [
    "sample_array1 = np.array([1,2,3,4,5,6,7,8])\n",
    "sample_array1"
   ]
  },
  {
   "cell_type": "code",
   "execution_count": 25,
   "metadata": {
    "ExecuteTime": {
     "end_time": "2021-04-20T06:44:07.430079Z",
     "start_time": "2021-04-20T06:44:07.420085Z"
    }
   },
   "outputs": [],
   "source": [
    "sample_array2 = np.array(4)"
   ]
  },
  {
   "cell_type": "code",
   "execution_count": 29,
   "metadata": {
    "ExecuteTime": {
     "end_time": "2021-04-20T06:47:30.739666Z",
     "start_time": "2021-04-20T06:47:30.722676Z"
    }
   },
   "outputs": [],
   "source": [
    "sample_array3 = np.array([3,2,1])"
   ]
  },
  {
   "cell_type": "code",
   "execution_count": 31,
   "metadata": {
    "ExecuteTime": {
     "end_time": "2021-04-20T06:47:47.920785Z",
     "start_time": "2021-04-20T06:47:47.906795Z"
    }
   },
   "outputs": [
    {
     "data": {
      "text/plain": [
       "array([3, 2, 1])"
      ]
     },
     "execution_count": 31,
     "metadata": {},
     "output_type": "execute_result"
    }
   ],
   "source": [
    "sample_array3"
   ]
  },
  {
   "cell_type": "code",
   "execution_count": 35,
   "metadata": {
    "ExecuteTime": {
     "end_time": "2021-04-20T06:49:39.865828Z",
     "start_time": "2021-04-20T06:49:39.850839Z"
    }
   },
   "outputs": [
    {
     "data": {
      "text/plain": [
       "2.0"
      ]
     },
     "execution_count": 35,
     "metadata": {},
     "output_type": "execute_result"
    }
   ],
   "source": [
    "sample_array3.mean()"
   ]
  },
  {
   "cell_type": "code",
   "execution_count": 37,
   "metadata": {
    "ExecuteTime": {
     "end_time": "2021-04-20T06:49:51.431985Z",
     "start_time": "2021-04-20T06:49:51.418994Z"
    }
   },
   "outputs": [
    {
     "data": {
      "text/plain": [
       "1"
      ]
     },
     "execution_count": 37,
     "metadata": {},
     "output_type": "execute_result"
    }
   ],
   "source": [
    "sample_array3.min()"
   ]
  },
  {
   "cell_type": "code",
   "execution_count": 41,
   "metadata": {
    "ExecuteTime": {
     "end_time": "2021-04-20T06:50:31.102467Z",
     "start_time": "2021-04-20T06:50:31.087476Z"
    }
   },
   "outputs": [
    {
     "data": {
      "text/plain": [
       "dtype('int32')"
      ]
     },
     "execution_count": 41,
     "metadata": {},
     "output_type": "execute_result"
    }
   ],
   "source": [
    "sample_array3.dtype"
   ]
  },
  {
   "cell_type": "code",
   "execution_count": 44,
   "metadata": {
    "ExecuteTime": {
     "end_time": "2021-04-20T06:52:07.389116Z",
     "start_time": "2021-04-20T06:52:07.376123Z"
    }
   },
   "outputs": [
    {
     "data": {
      "text/plain": [
       "array([[1., 1., 1.],\n",
       "       [1., 1., 1.],\n",
       "       [1., 1., 1.]])"
      ]
     },
     "execution_count": 44,
     "metadata": {},
     "output_type": "execute_result"
    }
   ],
   "source": [
    "ones = np.ones((3,3))\n",
    "ones"
   ]
  },
  {
   "cell_type": "code",
   "execution_count": 46,
   "metadata": {
    "ExecuteTime": {
     "end_time": "2021-04-20T06:52:36.846487Z",
     "start_time": "2021-04-20T06:52:36.823501Z"
    }
   },
   "outputs": [
    {
     "data": {
      "text/plain": [
       "array([[0., 0., 0.],\n",
       "       [0., 0., 0.],\n",
       "       [0., 0., 0.]])"
      ]
     },
     "execution_count": 46,
     "metadata": {},
     "output_type": "execute_result"
    }
   ],
   "source": [
    "zeros = np.zeros((3,3))\n",
    "zeros"
   ]
  },
  {
   "cell_type": "code",
   "execution_count": 48,
   "metadata": {
    "ExecuteTime": {
     "end_time": "2021-04-20T06:53:06.336303Z",
     "start_time": "2021-04-20T06:53:06.320314Z"
    }
   },
   "outputs": [
    {
     "data": {
      "text/plain": [
       "array([1, 1])"
      ]
     },
     "execution_count": 48,
     "metadata": {},
     "output_type": "execute_result"
    }
   ],
   "source": [
    "ones = np.ones_like((3,3))\n",
    "ones"
   ]
  },
  {
   "cell_type": "code",
   "execution_count": 50,
   "metadata": {
    "ExecuteTime": {
     "end_time": "2021-04-20T06:54:50.995789Z",
     "start_time": "2021-04-20T06:54:50.983795Z"
    }
   },
   "outputs": [
    {
     "data": {
      "text/plain": [
       "array([0, 2, 4, 6, 8])"
      ]
     },
     "execution_count": 50,
     "metadata": {},
     "output_type": "execute_result"
    }
   ],
   "source": [
    "range_array = np.arange(0,10,2)\n",
    "range_array"
   ]
  },
  {
   "cell_type": "code",
   "execution_count": 58,
   "metadata": {
    "ExecuteTime": {
     "end_time": "2021-04-20T06:59:53.339797Z",
     "start_time": "2021-04-20T06:59:53.324807Z"
    }
   },
   "outputs": [
    {
     "data": {
      "text/plain": [
       "array([[7, 7, 7, 6, 7],\n",
       "       [8, 9, 7, 5, 5],\n",
       "       [5, 9, 7, 7, 7]])"
      ]
     },
     "execution_count": 58,
     "metadata": {},
     "output_type": "execute_result"
    }
   ],
   "source": [
    "random_array = np.random.randint(5,10, size=(3,5))\n",
    "random_array"
   ]
  },
  {
   "cell_type": "code",
   "execution_count": 59,
   "metadata": {
    "ExecuteTime": {
     "end_time": "2021-04-20T07:00:21.267552Z",
     "start_time": "2021-04-20T07:00:21.251560Z"
    }
   },
   "outputs": [],
   "source": [
    "# here random number will keep on changing after every execution"
   ]
  },
  {
   "cell_type": "code",
   "execution_count": 77,
   "metadata": {
    "ExecuteTime": {
     "end_time": "2021-04-20T07:05:21.626448Z",
     "start_time": "2021-04-20T07:05:21.608460Z"
    }
   },
   "outputs": [
    {
     "data": {
      "text/plain": [
       "array([[ 0.62666713,  1.86882528,  0.53447077],\n",
       "       [ 0.46883333, -0.76673148,  0.18895086],\n",
       "       [-0.23356028, -1.59221772, -1.78842998],\n",
       "       [ 0.60490657,  0.99969182, -0.36472278],\n",
       "       [ 0.53243441,  0.51888896,  1.95156618],\n",
       "       [-0.2628852 , -1.26186006, -0.08163433],\n",
       "       [-0.89506287,  0.00498343,  0.32924107],\n",
       "       [ 0.46724062,  1.06829648,  0.11819988],\n",
       "       [-1.4134298 , -0.93914445, -0.80260191],\n",
       "       [-0.53447291, -1.09530648, -0.23359473]])"
      ]
     },
     "execution_count": 77,
     "metadata": {},
     "output_type": "execute_result"
    }
   ],
   "source": [
    "random_array2= np.random.randn(10,3)\n",
    "random_array2"
   ]
  },
  {
   "cell_type": "code",
   "execution_count": 78,
   "metadata": {
    "ExecuteTime": {
     "end_time": "2021-04-20T07:05:24.713380Z",
     "start_time": "2021-04-20T07:05:24.705384Z"
    }
   },
   "outputs": [
    {
     "data": {
      "text/plain": [
       "(10, 3)"
      ]
     },
     "execution_count": 78,
     "metadata": {},
     "output_type": "execute_result"
    }
   ],
   "source": [
    "random_array2.shape"
   ]
  },
  {
   "cell_type": "code",
   "execution_count": 82,
   "metadata": {
    "ExecuteTime": {
     "end_time": "2021-04-20T07:07:06.188326Z",
     "start_time": "2021-04-20T07:07:06.177332Z"
    }
   },
   "outputs": [
    {
     "data": {
      "text/plain": [
       "array([[0.20468974, 0.24695192, 0.75380315, 0.63688649, 0.6967911 ],\n",
       "       [0.55587085, 0.4073695 , 0.4837428 , 0.90568242, 0.15817982],\n",
       "       [0.16625413, 0.19767022, 0.05028805, 0.73273913, 0.98277207],\n",
       "       [0.35331502, 0.90859067, 0.70675399, 0.77876838, 0.89096148]])"
      ]
     },
     "execution_count": 82,
     "metadata": {},
     "output_type": "execute_result"
    }
   ],
   "source": [
    "random_array3 = np.random.random((4,5))\n",
    "random_array3"
   ]
  },
  {
   "cell_type": "code",
   "execution_count": 105,
   "metadata": {
    "ExecuteTime": {
     "end_time": "2021-04-20T07:15:26.029041Z",
     "start_time": "2021-04-20T07:15:26.012054Z"
    }
   },
   "outputs": [],
   "source": [
    "# pseudo-random numbers\n",
    "np.random.seed(seed=6)"
   ]
  },
  {
   "cell_type": "code",
   "execution_count": 113,
   "metadata": {
    "ExecuteTime": {
     "end_time": "2021-04-20T07:20:35.109103Z",
     "start_time": "2021-04-20T07:20:35.100109Z"
    }
   },
   "outputs": [],
   "source": [
    "# getting an error \\ should be stop generating random numbers"
   ]
  },
  {
   "cell_type": "code",
   "execution_count": 108,
   "metadata": {
    "ExecuteTime": {
     "end_time": "2021-04-20T07:15:33.495257Z",
     "start_time": "2021-04-20T07:15:33.486261Z"
    }
   },
   "outputs": [
    {
     "data": {
      "text/plain": [
       "array([[16,  2,  2, 11,  5],\n",
       "       [18, 14,  8,  5,  6],\n",
       "       [10, 10,  3, 11,  1]])"
      ]
     },
     "execution_count": 108,
     "metadata": {},
     "output_type": "execute_result"
    }
   ],
   "source": [
    "random_array4 = np.random.randint(19, size=(3,5))\n",
    "random_array4"
   ]
  },
  {
   "cell_type": "code",
   "execution_count": 112,
   "metadata": {
    "ExecuteTime": {
     "end_time": "2021-04-20T07:19:30.400094Z",
     "start_time": "2021-04-20T07:19:30.386102Z"
    }
   },
   "outputs": [
    {
     "data": {
      "text/plain": [
       "array([1.44711068, 0.33387874, 0.21015599, 0.63724137, 0.40767662])"
      ]
     },
     "execution_count": 112,
     "metadata": {},
     "output_type": "execute_result"
    }
   ],
   "source": [
    "original_data = np.random.exponential(size=5)\n",
    "original_data"
   ]
  },
  {
   "cell_type": "code",
   "execution_count": null,
   "metadata": {},
   "outputs": [],
   "source": []
  },
  {
   "cell_type": "code",
   "execution_count": null,
   "metadata": {},
   "outputs": [],
   "source": []
  },
  {
   "cell_type": "code",
   "execution_count": null,
   "metadata": {},
   "outputs": [],
   "source": []
  }
 ],
 "metadata": {
  "kernelspec": {
   "display_name": "Python 3",
   "language": "python",
   "name": "python3"
  },
  "language_info": {
   "codemirror_mode": {
    "name": "ipython",
    "version": 3
   },
   "file_extension": ".py",
   "mimetype": "text/x-python",
   "name": "python",
   "nbconvert_exporter": "python",
   "pygments_lexer": "ipython3",
   "version": "3.8.3"
  },
  "varInspector": {
   "cols": {
    "lenName": 16,
    "lenType": 16,
    "lenVar": 40
   },
   "kernels_config": {
    "python": {
     "delete_cmd_postfix": "",
     "delete_cmd_prefix": "del ",
     "library": "var_list.py",
     "varRefreshCmd": "print(var_dic_list())"
    },
    "r": {
     "delete_cmd_postfix": ") ",
     "delete_cmd_prefix": "rm(",
     "library": "var_list.r",
     "varRefreshCmd": "cat(var_dic_list()) "
    }
   },
   "types_to_exclude": [
    "module",
    "function",
    "builtin_function_or_method",
    "instance",
    "_Feature"
   ],
   "window_display": false
  }
 },
 "nbformat": 4,
 "nbformat_minor": 4
}
